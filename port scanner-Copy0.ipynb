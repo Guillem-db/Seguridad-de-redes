{
 "metadata": {
  "name": "",
  "signature": "sha256:0fd5263c495e64e6dadfe765579dec55d4f699651c44181b02ead7aeeb22409c"
 },
 "nbformat": 3,
 "nbformat_minor": 0,
 "worksheets": [
  {
   "cells": [
    {
     "cell_type": "code",
     "collapsed": false,
     "input": [
      "from jinja2 import Environment, PackageLoader\n",
      "#env = Environment(loader=PackageLoader('yourapplication', 'templates'))"
     ],
     "language": "python",
     "metadata": {},
     "outputs": [],
     "prompt_number": 1
    },
    {
     "cell_type": "code",
     "collapsed": false,
     "input": [
      "#Template(js).stream(seq=seq).dump('hello.html')"
     ],
     "language": "python",
     "metadata": {},
     "outputs": [],
     "prompt_number": 2
    },
    {
     "cell_type": "code",
     "collapsed": false,
     "input": [
      "def ip_to_ints(ip):\n",
      "    return [int(x) for x in ip.split('.')]"
     ],
     "language": "python",
     "metadata": {},
     "outputs": [],
     "prompt_number": 3
    },
    {
     "cell_type": "code",
     "collapsed": false,
     "input": [
      "import numpy as np\n",
      "import pandas as pd"
     ],
     "language": "python",
     "metadata": {},
     "outputs": [
      {
       "output_type": "stream",
       "stream": "stderr",
       "text": [
        "Vendor:  Continuum Analytics, Inc.\n",
        "Package: mkl\n",
        "Message: trial mode expires in 30 days\n",
        "Vendor:  Continuum Analytics, Inc.\n",
        "Package: mkl\n",
        "Message: trial mode expires in 30 days\n"
       ]
      }
     ],
     "prompt_number": 4
    },
    {
     "cell_type": "code",
     "collapsed": false,
     "input": [
      "%%bash\n",
      "curl 'http://192.168.1.1:80' "
     ],
     "language": "python",
     "metadata": {},
     "outputs": [
      {
       "output_type": "stream",
       "stream": "stdout",
       "text": [
        "<HTML><HEAD><TITLE>401 Unauthorized</TITLE></HEAD>\n",
        "<BODY BGCOLOR=\"#cc9999\"><H4>401 Unauthorized</H4>\n",
        "Authorization required.\n",
        "<HR>\n",
        "<ADDRESS><A HREF=\"http://www.acme.com/software/micro_httpd/\">micro_httpd</A></ADDRESS>\n",
        "</BODY></HTML>\n"
       ]
      },
      {
       "output_type": "stream",
       "stream": "stderr",
       "text": [
        "  % Total    % Received % Xferd  Average Speed   Time    Time     Time  Current\n",
        "                                 Dload  Upload   Total   Spent    Left  Speed\n",
        "\r",
        "  0     0    0     0    0     0      0      0 --:--:-- --:--:-- --:--:--     0\r",
        "100   232    0   232    0     0  40895      0 --:--:-- --:--:-- --:--:-- 46400\n"
       ]
      }
     ],
     "prompt_number": 90
    },
    {
     "cell_type": "code",
     "collapsed": false,
     "input": [
      "class Scan(object):\n",
      "    def __init__(self,lips,ports):\n",
      "        self.ip=self.ip_df(lips,lports)\n",
      "    def ip_df(self,lips,lports):\n",
      "      lportsix=np.tile(lports,len(lips))\n",
      "      lipsix=np.array(lips).T.repeat(len(lips))\n",
      "      ip=pd.DataFrame(index=[lipsix,lportsix],columns=['alive','timeout','services'])\n",
      "      ip.alive=None\n",
      "      ip.timeout=None\n",
      "      ip.services=None\n",
      "      ip.index.levels[0].name='IP address'\n",
      "      ip.index.levels[1].name='Port'\n",
      "      return ip    "
     ],
     "language": "python",
     "metadata": {},
     "outputs": [],
     "prompt_number": 5
    },
    {
     "cell_type": "code",
     "collapsed": false,
     "input": [
      "%%file runserverd.py\n",
      "from eve import Eve\n",
      "from pymongo import MongoClient\n",
      "#app = Eve()\n",
      "\n",
      "def list_to_ip(l):\n",
      "    return str(l[0])+'.'+str(l[1])+'.'+str(l[2])+'.'+str(l[3])\n",
      "\n",
      "def string_to_ip(s):\n",
      "    #print \"s in ip\",s\n",
      "    splited=s.split('x')\n",
      "    port=int(splited[1])\n",
      "    #print\"port\", port\n",
      "    ipl=splited[0].split('o')\n",
      "    #print \"address\",ipl\n",
      "    address=list_to_ip(ipl)\n",
      "    ip_id=str(address)+':'+str(port)\n",
      "    \n",
      "    delay=str(splited[2])\n",
      "    print\"results:\",ip_id, delay\n",
      "    ip={ 'address': address,'port': port,'delay': delay,'ip_id':ip_id}\n",
      "    return ip\n",
      "\n",
      "def ip_dict_to_df(di):\n",
      "    ip=pd.DataFrame(index=[di['ip_id']],columns=['address','port','delay'])\n",
      "    ip.address=di['address']\n",
      "    ip.port=di['port']\n",
      "    ip.delay=di['delay']\n",
      "    return ip\n",
      "\n",
      "#from eve import Eve\n",
      "\n",
      "\n",
      "\n",
      "\n",
      "def pre_get_callback(resource, request, lookup):\n",
      "    #print 'A GET request on the \"%s\" endpoint has just been received!' % resource\n",
      "    print  'REQ %s ' % request\n",
      "    from pymongo import MongoClient\n",
      "    ifirst=str(request)\n",
      "    #print \"FIRST\",ifirst\n",
      "    sec=str(ifirst)[len(\"<Request 'http://127.0.0.1:5000/ips/\")::]\n",
      "    #print \"SEC: \",sec\n",
      "    ids=sec[:-len(\"' [GET]>\")]\n",
      "    #print \"ids:\",ids\n",
      "    ipsample=string_to_ip(ids)\n",
      "    #print \"ip_id\",ipsample\n",
      "    client = MongoClient('mongodb://localhost:27017/')\n",
      "    db = client.apitest\n",
      "    collection = db.ips\n",
      "    posts = db.ips\n",
      "    post_id = posts.insert(ipsample)\n",
      "    print \"Added to db\"\n",
      "    print post_id\n",
      "    \n",
      "    \n",
      "def pre_contacts_get_callback(request, lookup):\n",
      "    print 'A GET request on the contacts endpoint has just been received in: %s!' %resource\n",
      "    print \"miaus\"\n",
      "    \"\"\"\n",
      "    ipsample=string_to_ip(str(resource)[5:])\n",
      "    print \"ip_id\",ipsample\n",
      "\n",
      "    client = MongoClient('mongodb://localhost:27017/')\n",
      "    db = client.apitest\n",
      "    collection = db.ips\n",
      "    posts = db.ips\n",
      "    post_id = posts.insert(ipsample)\n",
      "    print \"done\"  \"\"\"  \n",
      "\n",
      "app = Eve()\n",
      "\n",
      "\n",
      "#app.run()\n",
      "if __name__ == '__main__':\n",
      " \n",
      "  app.on_pre_GET += pre_get_callback\n",
      "  app.on_pre_GET_contacts += pre_contacts_get_callback  \n",
      "  app.run()  "
     ],
     "language": "python",
     "metadata": {},
     "outputs": [
      {
       "output_type": "stream",
       "stream": "stdout",
       "text": [
        "Overwriting runserverd.py\n"
       ]
      }
     ],
     "prompt_number": 6
    },
    {
     "cell_type": "code",
     "collapsed": false,
     "input": [
      "! konsole -e python runserverd.py"
     ],
     "language": "python",
     "metadata": {},
     "outputs": [
      {
       "output_type": "stream",
       "stream": "stdout",
       "text": [
        "QDBusConnection: session D-Bus connection created before QCoreApplication. Application may misbehave.\r\n",
        "QDBusConnection: session D-Bus connection created before QCoreApplication. Application may misbehave.\r\n"
       ]
      }
     ],
     "prompt_number": 7
    },
    {
     "cell_type": "code",
     "collapsed": false,
     "input": [
      "def encode_tag(ip,port):\n",
      "    return ip.replace('.','o')+'x'+str(port)\n",
      "    "
     ],
     "language": "python",
     "metadata": {},
     "outputs": [],
     "prompt_number": 8
    },
    {
     "cell_type": "code",
     "collapsed": false,
     "input": [
      "encode_tag('192.168.1.1',200)"
     ],
     "language": "python",
     "metadata": {},
     "outputs": [
      {
       "metadata": {},
       "output_type": "pyout",
       "prompt_number": 9,
       "text": [
        "'192o168o1o1x200'"
       ]
      }
     ],
     "prompt_number": 9
    },
    {
     "cell_type": "code",
     "collapsed": false,
     "input": [
      "def scan_resources(lips,ports):\n",
      "    \n",
      "    js_header_t=\"\"\"$(function() {\n",
      "    var timed = false;\n",
      "    //var imgTO = setTimeout(function () {\n",
      "    //    timed = true;\n",
      "    //    alert(\"timed out\");\n",
      "    //}, 20000);  // 2 second timeout\n",
      "    \n",
      "    var sendDate = (new Date()).getTime();\n",
      "    \"\"\"\n",
      "    loop_ip_t=\"\"\"\n",
      "    //var sendDate = (new Date()).getTime();\n",
      "    {% for ip in lips %}\n",
      "      {% for port in lports %}\n",
      "        {% block loop_item scoped %}\n",
      "          var d = new Date();\n",
      "          var t = d.getTime();\n",
      "\n",
      "          $(\"<img>\").on({\n",
      "           error: function() {\n",
      "            var receiveDate = (new Date()).getTime();\n",
      "\n",
      "            var responseTimeMs = receiveDate - sendDate;\n",
      "            $(\"<img>\").attr(\"src\", \"http://127.0.0.1:5000/ips/{{ip.replace('.','o')}}x{{port}}x\"+responseTimeMs);\n",
      "            \n",
      "           },\n",
      "           load: function() {\n",
      "            clearTimeout(imgTO);\n",
      "            if (!timed) alert(\"open\");\n",
      "            $(\"<img>\").attr(\"src\", \"http://127.0.0.1:5000/ips/{{ip.replace('.','o')}}x{{port}}x\"+responseTimeMs+\"ok\");\n",
      "            }\n",
      "          }).attr(\"src\", \"http://{{ip}}:{{port}}\");\n",
      "        {% endblock %}\n",
      "      {% endfor %}\n",
      "    {% endfor %}\n",
      "    });\"\"\"\n",
      "    html=\"<html><head><script>\"+js_header_t+loop_ip_t+\"</script></head>\"\n",
      "    template = Template(html)\n",
      "    #tag=encode_tag(ip,port)  \n",
      "    return  HTML(template.render(lips=lips,lports=ports))"
     ],
     "language": "python",
     "metadata": {},
     "outputs": [],
     "prompt_number": 10
    },
    {
     "cell_type": "code",
     "collapsed": false,
     "input": [
      "from IPython.display import HTML\n",
      "from jinja2 import Template"
     ],
     "language": "python",
     "metadata": {},
     "outputs": [],
     "prompt_number": 14
    },
    {
     "cell_type": "code",
     "collapsed": false,
     "input": [
      "lips=['127.0.0.1','10.254.80.2']\n",
      "lports=[80,8888]\n"
     ],
     "language": "python",
     "metadata": {},
     "outputs": [],
     "prompt_number": 15
    },
    {
     "cell_type": "code",
     "collapsed": false,
     "input": [
      "def get_ref_list(lips,lports):\n",
      "    slist=[]\n",
      "    for ip in lips:\n",
      "       for port in lports:\n",
      "           slist.append(encode_tag(ip,port))\n",
      "    return slist        "
     ],
     "language": "python",
     "metadata": {},
     "outputs": [],
     "prompt_number": 17
    },
    {
     "cell_type": "code",
     "collapsed": false,
     "input": [
      "get_ref_list(lips,lports)"
     ],
     "language": "python",
     "metadata": {},
     "outputs": [
      {
       "metadata": {},
       "output_type": "pyout",
       "prompt_number": 18,
       "text": [
        "['127o0o0o1x80', '127o0o0o1x8888', '10o254o80o2x80', '10o254o80o2x8888']"
       ]
      }
     ],
     "prompt_number": 18
    },
    {
     "cell_type": "code",
     "collapsed": false,
     "input": [
      "from pymongo import MongoClient\n",
      "def list_to_ip(l):\n",
      "    return str(l[0])+'.'+str(l[1])+'.'+str(l[2])+'.'+str(l[3])\n",
      "\n",
      "def ip_dict_to_df(di):\n",
      "    ip=pd.DataFrame(index=[di['ip_id']],columns=['address','port','delay'])\n",
      "    ip.address=di['address']\n",
      "    ip.port=di['port']\n",
      "    ip.delay=di['delay']\n",
      "    return ip\n",
      "\n",
      "def string_to_ip(s):\n",
      "    splited=s.split('x')\n",
      "    port=int(splited[1])\n",
      "    ipl=splited[0].split('o')\n",
      "    address=list_to_ip(ipl)\n",
      "    delay=str(splited[2])\n",
      "    ip={ 'address': address,'port': port,'delay': delay,'ip_id':s}\n",
      "    return ip_dict_to_df(ip)\n",
      "\n",
      "def make_query(ip,port):\n",
      "    return ip+':'+str(port)\n",
      "\n",
      "def query_list(lips,lports):\n",
      "    querys=[]\n",
      "    for ip in lips:\n",
      "        for port in lports:\n",
      "            querys.append(make_query(ip,port))\n",
      "    return querys\n",
      "\n",
      "def retreive_resources(ql):\n",
      "    return [resource_from_id(q) for q in ql]\n",
      "\n",
      "def ip_dict_to_df(di):\n",
      "    #print di\n",
      "    ip=pd.DataFrame(index=[di['ip_id']],columns=['address','port','delay'])\n",
      "    ip.address=di['address']\n",
      "    ip.port=di['port']\n",
      "    ip.delay=int(di['delay'])\n",
      "    return ip\n",
      "\n",
      "def dict_list_to_df(dl):\n",
      "    df=ip_dict_to_df(dl[0])\n",
      "    for i in range(1,len(dl)):\n",
      "        df=df.combine_first(ip_dict_to_df(dl[i]))\n",
      "    return df    \n",
      "\n",
      "def resource_from_id(s):\n",
      " client = MongoClient('mongodb://localhost:27017/')\n",
      " db = client.apitest\n",
      " collection = db.ips\n",
      " posts = db.ips\n",
      " di=posts.find_one({\"ip_id\": s})\n",
      " if di==None:\n",
      "    di=get_default_dict(s)    \n",
      " return di\n",
      "\n",
      "def scan_results(lips,ports):\n",
      "  ql=query_list(lips,lports)\n",
      "  dl=retreive_resources(ql)\n",
      "  return dict_list_to_df(dl)\n",
      "def address_from_str(s):\n",
      "    return s.split(':')[0],s.split(':')[1]\n",
      "def get_default_dict(s):\n",
      "    ip,port=address_from_str(s)\n",
      "    return { 'address': ip,'port': port,'delay': \"-1\",'ip_id':s}"
     ],
     "language": "python",
     "metadata": {},
     "outputs": [],
     "prompt_number": 49
    },
    {
     "cell_type": "code",
     "collapsed": false,
     "input": [
      "lips2=['127.0.0.1','10.254.80.97']\n",
      "lports2=[80,8888]\n"
     ],
     "language": "python",
     "metadata": {},
     "outputs": [],
     "prompt_number": 58
    },
    {
     "cell_type": "code",
     "collapsed": false,
     "input": [
      "def new_scan(lips,lports):\n",
      "    scan_resources(lips,lports)\n",
      "    return scan_results(lips2,lports)"
     ],
     "language": "python",
     "metadata": {},
     "outputs": [],
     "prompt_number": 60
    },
    {
     "cell_type": "code",
     "collapsed": false,
     "input": [
      "new_scan(lips,lports)"
     ],
     "language": "python",
     "metadata": {},
     "outputs": [
      {
       "html": [
        "<div style=\"max-height:1000px;max-width:1500px;overflow:auto;\">\n",
        "<table border=\"1\" class=\"dataframe\">\n",
        "  <thead>\n",
        "    <tr style=\"text-align: right;\">\n",
        "      <th></th>\n",
        "      <th>address</th>\n",
        "      <th>port</th>\n",
        "      <th>delay</th>\n",
        "    </tr>\n",
        "  </thead>\n",
        "  <tbody>\n",
        "    <tr>\n",
        "      <th>10.254.80.97:80</th>\n",
        "      <td> 10.254.80.97</td>\n",
        "      <td>   80</td>\n",
        "      <td> -1</td>\n",
        "    </tr>\n",
        "    <tr>\n",
        "      <th>10.254.80.97:8888</th>\n",
        "      <td> 10.254.80.97</td>\n",
        "      <td> 8888</td>\n",
        "      <td> -1</td>\n",
        "    </tr>\n",
        "    <tr>\n",
        "      <th>127.0.0.1:80</th>\n",
        "      <td>    127.0.0.1</td>\n",
        "      <td>   80</td>\n",
        "      <td> 39</td>\n",
        "    </tr>\n",
        "    <tr>\n",
        "      <th>127.0.0.1:8888</th>\n",
        "      <td>    127.0.0.1</td>\n",
        "      <td> 8888</td>\n",
        "      <td> 48</td>\n",
        "    </tr>\n",
        "  </tbody>\n",
        "</table>\n",
        "</div>"
       ],
       "metadata": {},
       "output_type": "pyout",
       "prompt_number": 61,
       "text": [
        "                        address  port  delay\n",
        "10.254.80.97:80    10.254.80.97    80     -1\n",
        "10.254.80.97:8888  10.254.80.97  8888     -1\n",
        "127.0.0.1:80          127.0.0.1    80     39\n",
        "127.0.0.1:8888        127.0.0.1  8888     48"
       ]
      }
     ],
     "prompt_number": 61
    },
    {
     "cell_type": "code",
     "collapsed": false,
     "input": [
      "scan_resources(lips,lports)\n"
     ],
     "language": "python",
     "metadata": {},
     "outputs": [
      {
       "html": [
        "<html><head><script>$(function() {\n",
        "    var timed = false;\n",
        "    //var imgTO = setTimeout(function () {\n",
        "    //    timed = true;\n",
        "    //    alert(\"timed out\");\n",
        "    //}, 20000);  // 2 second timeout\n",
        "    \n",
        "    var sendDate = (new Date()).getTime();\n",
        "    \n",
        "    //var sendDate = (new Date()).getTime();\n",
        "    \n",
        "      \n",
        "        \n",
        "          var d = new Date();\n",
        "          var t = d.getTime();\n",
        "\n",
        "          $(\"<img>\").on({\n",
        "           error: function() {\n",
        "            var receiveDate = (new Date()).getTime();\n",
        "\n",
        "            var responseTimeMs = receiveDate - sendDate;\n",
        "            $(\"<img>\").attr(\"src\", \"http://127.0.0.1:5000/ips/127o0o0o1x80x\"+responseTimeMs);\n",
        "            \n",
        "           },\n",
        "           load: function() {\n",
        "            clearTimeout(imgTO);\n",
        "            if (!timed) alert(\"open\");\n",
        "            $(\"<img>\").attr(\"src\", \"http://127.0.0.1:5000/ips/127o0o0o1x80x\"+responseTimeMs+\"ok\");\n",
        "            }\n",
        "          }).attr(\"src\", \"http://127.0.0.1:80\");\n",
        "        \n",
        "      \n",
        "        \n",
        "          var d = new Date();\n",
        "          var t = d.getTime();\n",
        "\n",
        "          $(\"<img>\").on({\n",
        "           error: function() {\n",
        "            var receiveDate = (new Date()).getTime();\n",
        "\n",
        "            var responseTimeMs = receiveDate - sendDate;\n",
        "            $(\"<img>\").attr(\"src\", \"http://127.0.0.1:5000/ips/127o0o0o1x8888x\"+responseTimeMs);\n",
        "            \n",
        "           },\n",
        "           load: function() {\n",
        "            clearTimeout(imgTO);\n",
        "            if (!timed) alert(\"open\");\n",
        "            $(\"<img>\").attr(\"src\", \"http://127.0.0.1:5000/ips/127o0o0o1x8888x\"+responseTimeMs+\"ok\");\n",
        "            }\n",
        "          }).attr(\"src\", \"http://127.0.0.1:8888\");\n",
        "        \n",
        "      \n",
        "    \n",
        "      \n",
        "        \n",
        "          var d = new Date();\n",
        "          var t = d.getTime();\n",
        "\n",
        "          $(\"<img>\").on({\n",
        "           error: function() {\n",
        "            var receiveDate = (new Date()).getTime();\n",
        "\n",
        "            var responseTimeMs = receiveDate - sendDate;\n",
        "            $(\"<img>\").attr(\"src\", \"http://127.0.0.1:5000/ips/10o254o80o2x80x\"+responseTimeMs);\n",
        "            \n",
        "           },\n",
        "           load: function() {\n",
        "            clearTimeout(imgTO);\n",
        "            if (!timed) alert(\"open\");\n",
        "            $(\"<img>\").attr(\"src\", \"http://127.0.0.1:5000/ips/10o254o80o2x80x\"+responseTimeMs+\"ok\");\n",
        "            }\n",
        "          }).attr(\"src\", \"http://10.254.80.2:80\");\n",
        "        \n",
        "      \n",
        "        \n",
        "          var d = new Date();\n",
        "          var t = d.getTime();\n",
        "\n",
        "          $(\"<img>\").on({\n",
        "           error: function() {\n",
        "            var receiveDate = (new Date()).getTime();\n",
        "\n",
        "            var responseTimeMs = receiveDate - sendDate;\n",
        "            $(\"<img>\").attr(\"src\", \"http://127.0.0.1:5000/ips/10o254o80o2x8888x\"+responseTimeMs);\n",
        "            \n",
        "           },\n",
        "           load: function() {\n",
        "            clearTimeout(imgTO);\n",
        "            if (!timed) alert(\"open\");\n",
        "            $(\"<img>\").attr(\"src\", \"http://127.0.0.1:5000/ips/10o254o80o2x8888x\"+responseTimeMs+\"ok\");\n",
        "            }\n",
        "          }).attr(\"src\", \"http://10.254.80.2:8888\");\n",
        "        \n",
        "      \n",
        "    \n",
        "    });</script></head>"
       ],
       "metadata": {},
       "output_type": "pyout",
       "prompt_number": 16,
       "text": [
        "<IPython.core.display.HTML at 0x7f7d18ce0a90>"
       ]
      }
     ],
     "prompt_number": 16
    },
    {
     "cell_type": "code",
     "collapsed": false,
     "input": [
      "scan_results(lips,lports)"
     ],
     "language": "python",
     "metadata": {},
     "outputs": [
      {
       "html": [
        "<div style=\"max-height:1000px;max-width:1500px;overflow:auto;\">\n",
        "<table border=\"1\" class=\"dataframe\">\n",
        "  <thead>\n",
        "    <tr style=\"text-align: right;\">\n",
        "      <th></th>\n",
        "      <th>address</th>\n",
        "      <th>port</th>\n",
        "      <th>delay</th>\n",
        "    </tr>\n",
        "  </thead>\n",
        "  <tbody>\n",
        "    <tr>\n",
        "      <th>10.254.80.2:80</th>\n",
        "      <td> 10.254.80.2</td>\n",
        "      <td>   80</td>\n",
        "      <td> 3008</td>\n",
        "    </tr>\n",
        "    <tr>\n",
        "      <th>10.254.80.2:8888</th>\n",
        "      <td> 10.254.80.2</td>\n",
        "      <td> 8888</td>\n",
        "      <td> 6011</td>\n",
        "    </tr>\n",
        "    <tr>\n",
        "      <th>127.0.0.1:80</th>\n",
        "      <td>   127.0.0.1</td>\n",
        "      <td>   80</td>\n",
        "      <td>   39</td>\n",
        "    </tr>\n",
        "    <tr>\n",
        "      <th>127.0.0.1:8888</th>\n",
        "      <td>   127.0.0.1</td>\n",
        "      <td> 8888</td>\n",
        "      <td>   48</td>\n",
        "    </tr>\n",
        "  </tbody>\n",
        "</table>\n",
        "</div>"
       ],
       "metadata": {},
       "output_type": "pyout",
       "prompt_number": 63,
       "text": [
        "                      address  port  delay\n",
        "10.254.80.2:80    10.254.80.2    80   3008\n",
        "10.254.80.2:8888  10.254.80.2  8888   6011\n",
        "127.0.0.1:80        127.0.0.1    80     39\n",
        "127.0.0.1:8888      127.0.0.1  8888     48"
       ]
      }
     ],
     "prompt_number": 63
    },
    {
     "cell_type": "code",
     "collapsed": false,
     "input": [
      "import networkx as nx\n",
      "def crea_mapa(lims):\n",
      "  G=nx.Graph()\n",
      "  nex.set_node_attributes(G,'visitado',False)\n",
      "  nex.set_node_attributes(G,'score',0)\n",
      "  nex.set_node_attributes(G,'bola',False)  \n",
      "  nex.set_node_attributes(G,'color','#33CCFF')  \n",
      "  nex.set_edge_attributes(G,'visitado',False)\n",
      "  nex.set_edge_attributes(G,'color','#00CC00')  \n",
      "  return G\n",
      "  \"\"\"\n",
      "  net=nx.Graph()\n",
      "  net.add_nodes_from(G.nodes(),visitado=False,score=0,bola=False,color='#33CCFF')\n",
      "  net.add_edges_from(G.edges(),visitado=False,color='#00CC00')\n",
      "  return net  \n",
      "  \"\"\"\n",
      "def get_visits(G):\n",
      "    edge_vis=[mapa[x][y]['visitado'] for x,y in mapa.edges()]\n",
      "    node_vis=[mapa.node[x]['visitado'] for x in mapa.nodes()]\n",
      "          \n",
      "    return node_vis,edge_vis\n",
      "\n",
      "def visita_nodos(G,nlist):\n",
      "    for n in nlist:\n",
      "        G.node[n]['visitado']=True\n",
      "        \n",
      "def visit_edge(G,elist):\n",
      "    for x,y in elist:\n",
      "        G[x][y]['visitado']=True"
     ],
     "language": "python",
     "metadata": {},
     "outputs": [],
     "prompt_number": 65
    },
    {
     "cell_type": "code",
     "collapsed": false,
     "input": [],
     "language": "python",
     "metadata": {},
     "outputs": []
    },
    {
     "cell_type": "code",
     "collapsed": false,
     "input": [
      "import pandas as pd\n",
      "import numpy as np"
     ],
     "language": "python",
     "metadata": {},
     "outputs": [
      {
       "output_type": "stream",
       "stream": "stderr",
       "text": [
        "Vendor:  Continuum Analytics, Inc.\n",
        "Package: mkl\n",
        "Message: trial mode expires in 30 days\n",
        "Vendor:  Continuum Analytics, Inc.\n",
        "Package: mkl\n",
        "Message: trial mode expires in 30 days\n"
       ]
      }
     ],
     "prompt_number": 30
    },
    {
     "cell_type": "code",
     "collapsed": false,
     "input": [
      "string_to_ip('192o1o1o5x7777xopen')"
     ],
     "language": "python",
     "metadata": {},
     "outputs": [
      {
       "html": [
        "<div style=\"max-height:1000px;max-width:1500px;overflow:auto;\">\n",
        "<table border=\"1\" class=\"dataframe\">\n",
        "  <thead>\n",
        "    <tr style=\"text-align: right;\">\n",
        "      <th></th>\n",
        "      <th>address</th>\n",
        "      <th>port</th>\n",
        "      <th>state</th>\n",
        "    </tr>\n",
        "  </thead>\n",
        "  <tbody>\n",
        "    <tr>\n",
        "      <th>192o1o1o5x7777xopen</th>\n",
        "      <td> 192.1.1.5</td>\n",
        "      <td> 7777</td>\n",
        "      <td> open</td>\n",
        "    </tr>\n",
        "  </tbody>\n",
        "</table>\n",
        "</div>"
       ],
       "metadata": {},
       "output_type": "pyout",
       "prompt_number": 385,
       "text": [
        "                       address  port state\n",
        "192o1o1o5x7777xopen  192.1.1.5  7777  open"
       ]
      }
     ],
     "prompt_number": 385
    },
    {
     "cell_type": "code",
     "collapsed": false,
     "input": [
      "ipsample=string_to_ip(s)"
     ],
     "language": "python",
     "metadata": {},
     "outputs": [],
     "prompt_number": 207
    },
    {
     "cell_type": "code",
     "collapsed": false,
     "input": [
      "ipsample={ 'address': '192.168.1.36','port': 8888,'state': 15,'ip_id':'1921681368888'}"
     ],
     "language": "python",
     "metadata": {},
     "outputs": [],
     "prompt_number": 45
    },
    {
     "cell_type": "code",
     "collapsed": false,
     "input": [
      "from pymongo import MongoClient\n",
      "client = MongoClient('mongodb://localhost:27017/')\n",
      "db = client.apitest\n",
      "collection = db.ips\n",
      "posts = db.ips\n",
      "post_id = posts.insert(ipsample)\n",
      "post_id"
     ],
     "language": "python",
     "metadata": {},
     "outputs": [
      {
       "metadata": {},
       "output_type": "pyout",
       "prompt_number": 208,
       "text": [
        "ObjectId('54807b8c6484d81111900554')"
       ]
      }
     ],
     "prompt_number": 208
    },
    {
     "cell_type": "code",
     "collapsed": false,
     "input": [
      "posts.find"
     ],
     "language": "python",
     "metadata": {},
     "outputs": []
    },
    {
     "cell_type": "code",
     "collapsed": false,
     "input": [
      "resource_from_id(\"192.168.1.1:80\")"
     ],
     "language": "python",
     "metadata": {},
     "outputs": [
      {
       "metadata": {},
       "output_type": "pyout",
       "prompt_number": 15,
       "text": [
        "{u'_id': ObjectId('548185646484d810c17bb958'),\n",
        " u'address': u'192.168.1.1',\n",
        " u'ip_id': u'192.168.1.1:80',\n",
        " u'port': 80,\n",
        " u'state': u'2535'}"
       ]
      }
     ],
     "prompt_number": 15
    },
    {
     "cell_type": "code",
     "collapsed": false,
     "input": [
      "ip_dict_to_df(miau)"
     ],
     "language": "python",
     "metadata": {},
     "outputs": [
      {
       "ename": "NameError",
       "evalue": "name 'miau' is not defined",
       "output_type": "pyerr",
       "traceback": [
        "\u001b[1;31m---------------------------------------------------------------------------\u001b[0m\n\u001b[1;31mNameError\u001b[0m                                 Traceback (most recent call last)",
        "\u001b[1;32m<ipython-input-26-d03bc9cd38f2>\u001b[0m in \u001b[0;36m<module>\u001b[1;34m()\u001b[0m\n\u001b[1;32m----> 1\u001b[1;33m \u001b[0mip_dict_to_df\u001b[0m\u001b[1;33m(\u001b[0m\u001b[0mmiau\u001b[0m\u001b[1;33m)\u001b[0m\u001b[1;33m\u001b[0m\u001b[0m\n\u001b[0m",
        "\u001b[1;31mNameError\u001b[0m: name 'miau' is not defined"
       ]
      }
     ],
     "prompt_number": 26
    },
    {
     "cell_type": "code",
     "collapsed": false,
     "input": [
      "sca.ix[:4,1]"
     ],
     "language": "python",
     "metadata": {},
     "outputs": [
      {
       "metadata": {},
       "output_type": "pyout",
       "prompt_number": 239,
       "text": [
        "IP address   Port\n",
        "192.168.1.1  80      None\n",
        "             888     None\n",
        "             443     None\n",
        "             22      None\n",
        "Name: timeout, dtype: object"
       ]
      }
     ],
     "prompt_number": 239
    },
    {
     "cell_type": "code",
     "collapsed": false,
     "input": [],
     "language": "python",
     "metadata": {},
     "outputs": [],
     "prompt_number": 251
    },
    {
     "cell_type": "code",
     "collapsed": false,
     "input": [],
     "language": "python",
     "metadata": {},
     "outputs": [],
     "prompt_number": 251
    },
    {
     "cell_type": "code",
     "collapsed": false,
     "input": [
      "a='hola?'"
     ],
     "language": "python",
     "metadata": {},
     "outputs": [],
     "prompt_number": 3
    },
    {
     "cell_type": "code",
     "collapsed": false,
     "input": [
      "pene=!echo elefante"
     ],
     "language": "python",
     "metadata": {},
     "outputs": [],
     "prompt_number": 11
    },
    {
     "cell_type": "code",
     "collapsed": false,
     "input": [
      "pene=str(pene)"
     ],
     "language": "python",
     "metadata": {},
     "outputs": [],
     "prompt_number": 12
    },
    {
     "cell_type": "code",
     "collapsed": false,
     "input": [
      "%%bash -s \"$pene\" \n",
      "echo \"$pene\""
     ],
     "language": "python",
     "metadata": {},
     "outputs": [
      {
       "output_type": "stream",
       "stream": "stdout",
       "text": [
        "\n"
       ]
      }
     ],
     "prompt_number": 15
    },
    {
     "cell_type": "code",
     "collapsed": false,
     "input": [
      "%%script env my_bash_variable=\"$myPythonVariable\" bash\n",
      "echo myPythonVariable\\'s value is $my_bash_variable"
     ],
     "language": "python",
     "metadata": {},
     "outputs": []
    }
   ],
   "metadata": {}
  }
 ]
}